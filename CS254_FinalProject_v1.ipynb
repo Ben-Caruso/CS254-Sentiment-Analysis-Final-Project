{
 "cells": [
  {
   "cell_type": "code",
   "execution_count": 1,
   "metadata": {},
   "outputs": [],
   "source": [
    "import re\n",
    "import pandas as pd \n",
    "import numpy as np \n",
    "import matplotlib.pyplot as plt \n",
    "import seaborn as sns\n",
    "import string\n",
    "import nltk\n",
    "import warnings \n",
    "warnings.filterwarnings(\"ignore\", category=DeprecationWarning)\n",
    "warnings.filterwarnings(\"ignore\", category=FutureWarning)\n",
    "\n",
    "from nltk import PorterStemmer\n",
    "ps = PorterStemmer()\n",
    "\n",
    "from sklearn import preprocessing\n",
    "from sklearn.ensemble import RandomForestClassifier\n",
    "from sklearn.tree import DecisionTreeClassifier\n",
    "from sklearn.feature_extraction.text import CountVectorizer\n",
    "from sklearn.feature_extraction.text import TfidfVectorizer\n",
    "from sklearn.model_selection import train_test_split\n",
    "from sklearn.linear_model import LogisticRegression\n",
    "from sklearn.metrics import f1_score\n",
    "\n",
    "from sklearn import metrics\n",
    "from sklearn.model_selection import cross_validate\n",
    "from sklearn.model_selection import cross_val_predict\n",
    "from sklearn.model_selection import ShuffleSplit\n",
    "from sklearn.model_selection import learning_curve\n",
    "\n",
    "%matplotlib inline"
   ]
  },
  {
   "cell_type": "code",
   "execution_count": 11,
   "metadata": {},
   "outputs": [
    {
     "data": {
      "text/html": [
       "<div>\n",
       "<style scoped>\n",
       "    .dataframe tbody tr th:only-of-type {\n",
       "        vertical-align: middle;\n",
       "    }\n",
       "\n",
       "    .dataframe tbody tr th {\n",
       "        vertical-align: top;\n",
       "    }\n",
       "\n",
       "    .dataframe thead th {\n",
       "        text-align: right;\n",
       "    }\n",
       "</style>\n",
       "<table border=\"1\" class=\"dataframe\">\n",
       "  <thead>\n",
       "    <tr style=\"text-align: right;\">\n",
       "      <th></th>\n",
       "      <th>ItemID</th>\n",
       "      <th>Sentiment</th>\n",
       "      <th>Tweet</th>\n",
       "    </tr>\n",
       "  </thead>\n",
       "  <tbody>\n",
       "    <tr>\n",
       "      <td>0</td>\n",
       "      <td>1</td>\n",
       "      <td>0</td>\n",
       "      <td>is so sad for my APL frie...</td>\n",
       "    </tr>\n",
       "    <tr>\n",
       "      <td>1</td>\n",
       "      <td>2</td>\n",
       "      <td>0</td>\n",
       "      <td>I missed the New Moon trail...</td>\n",
       "    </tr>\n",
       "    <tr>\n",
       "      <td>2</td>\n",
       "      <td>3</td>\n",
       "      <td>1</td>\n",
       "      <td>omg its already 7:30 :O\\r</td>\n",
       "    </tr>\n",
       "    <tr>\n",
       "      <td>3</td>\n",
       "      <td>4</td>\n",
       "      <td>0</td>\n",
       "      <td>.. Omgaga. Im sooo  im gunna CRy. I'...</td>\n",
       "    </tr>\n",
       "    <tr>\n",
       "      <td>4</td>\n",
       "      <td>5</td>\n",
       "      <td>0</td>\n",
       "      <td>i think mi bf is cheating on me!!!   ...</td>\n",
       "    </tr>\n",
       "    <tr>\n",
       "      <td>...</td>\n",
       "      <td>...</td>\n",
       "      <td>...</td>\n",
       "      <td>...</td>\n",
       "    </tr>\n",
       "    <tr>\n",
       "      <td>79995</td>\n",
       "      <td>80007</td>\n",
       "      <td>1</td>\n",
       "      <td>@chamillionaire lol. Someone brought stash mag...</td>\n",
       "    </tr>\n",
       "    <tr>\n",
       "      <td>79996</td>\n",
       "      <td>80008</td>\n",
       "      <td>0</td>\n",
       "      <td>@cantoresteele I have no idea \\r</td>\n",
       "    </tr>\n",
       "    <tr>\n",
       "      <td>79997</td>\n",
       "      <td>80009</td>\n",
       "      <td>0</td>\n",
       "      <td>@cantoresteele I sent you an email but it came...</td>\n",
       "    </tr>\n",
       "    <tr>\n",
       "      <td>79998</td>\n",
       "      <td>80010</td>\n",
       "      <td>0</td>\n",
       "      <td>@Cantrewind @floatnsink awwww  someone cant ha...</td>\n",
       "    </tr>\n",
       "    <tr>\n",
       "      <td>79999</td>\n",
       "      <td>80011</td>\n",
       "      <td>0</td>\n",
       "      <td>@cantyahermala you make me jealous \\r</td>\n",
       "    </tr>\n",
       "  </tbody>\n",
       "</table>\n",
       "<p>80000 rows × 3 columns</p>\n",
       "</div>"
      ],
      "text/plain": [
       "       ItemID  Sentiment                                              Tweet\n",
       "0           1          0                       is so sad for my APL frie...\n",
       "1           2          0                     I missed the New Moon trail...\n",
       "2           3          1                          omg its already 7:30 :O\\r\n",
       "3           4          0            .. Omgaga. Im sooo  im gunna CRy. I'...\n",
       "4           5          0           i think mi bf is cheating on me!!!   ...\n",
       "...       ...        ...                                                ...\n",
       "79995   80007          1  @chamillionaire lol. Someone brought stash mag...\n",
       "79996   80008          0                   @cantoresteele I have no idea \\r\n",
       "79997   80009          0  @cantoresteele I sent you an email but it came...\n",
       "79998   80010          0  @Cantrewind @floatnsink awwww  someone cant ha...\n",
       "79999   80011          0              @cantyahermala you make me jealous \\r\n",
       "\n",
       "[80000 rows x 3 columns]"
      ]
     },
     "execution_count": 11,
     "metadata": {},
     "output_type": "execute_result"
    }
   ],
   "source": [
    "# Define number of columns to be read in\n",
    "n = 4\n",
    "# Get training dataset - Sentiment Analysis csv that we found\n",
    "data = pd.read_csv('Sentiment Analysis Dataset.csv', usecols=range(n), lineterminator='\\n', header = 0)\n",
    "# Copy it so we always have an original\n",
    "originalFullset = data.copy()\n",
    "\n",
    "# Remove sentimentSource column - does not add any useful information\n",
    "data.drop(\"SentimentSource\", axis = 1, inplace = True)\n",
    "\n",
    "# Rename SentimentText\\r to Tweet to make it easier to work with\n",
    "data = data.rename(columns = {\"SentimentText\\r\": \"Tweet\"})\n",
    "\n",
    "data = data[:80000]\n",
    "\n",
    "data\n",
    "\n",
    "# For this dataset 0 is negative, 1 is positive"
   ]
  },
  {
   "cell_type": "code",
   "execution_count": 12,
   "metadata": {},
   "outputs": [],
   "source": [
    "# Function that will remove patterns and phrases that do not add anything to the tweet\n",
    "# such as handles and punctuation\n",
    "\n",
    "def deletePart(text, part):\n",
    "    # Get all instances of part in the text\n",
    "    r = re.findall(part,text)\n",
    "    \n",
    "    # Sub out these unnecessary patterns for a blank space\n",
    "    for i in r:\n",
    "        text = re.sub(i,\"\",text)\n",
    "        \n",
    "        \n",
    "    return text\n",
    "    "
   ]
  },
  {
   "cell_type": "code",
   "execution_count": 13,
   "metadata": {},
   "outputs": [
    {
     "data": {
      "text/html": [
       "<div>\n",
       "<style scoped>\n",
       "    .dataframe tbody tr th:only-of-type {\n",
       "        vertical-align: middle;\n",
       "    }\n",
       "\n",
       "    .dataframe tbody tr th {\n",
       "        vertical-align: top;\n",
       "    }\n",
       "\n",
       "    .dataframe thead th {\n",
       "        text-align: right;\n",
       "    }\n",
       "</style>\n",
       "<table border=\"1\" class=\"dataframe\">\n",
       "  <thead>\n",
       "    <tr style=\"text-align: right;\">\n",
       "      <th></th>\n",
       "      <th>ItemID</th>\n",
       "      <th>Sentiment</th>\n",
       "      <th>Tweet</th>\n",
       "      <th>CleanTweet</th>\n",
       "    </tr>\n",
       "  </thead>\n",
       "  <tbody>\n",
       "    <tr>\n",
       "      <td>0</td>\n",
       "      <td>1</td>\n",
       "      <td>0</td>\n",
       "      <td>is so sad for my APL frie...</td>\n",
       "      <td>friend</td>\n",
       "    </tr>\n",
       "    <tr>\n",
       "      <td>1</td>\n",
       "      <td>2</td>\n",
       "      <td>0</td>\n",
       "      <td>I missed the New Moon trail...</td>\n",
       "      <td>missed Moon trailer</td>\n",
       "    </tr>\n",
       "    <tr>\n",
       "      <td>2</td>\n",
       "      <td>3</td>\n",
       "      <td>1</td>\n",
       "      <td>omg its already 7:30 :O\\r</td>\n",
       "      <td>already</td>\n",
       "    </tr>\n",
       "    <tr>\n",
       "      <td>3</td>\n",
       "      <td>4</td>\n",
       "      <td>0</td>\n",
       "      <td>.. Omgaga. Im sooo  im gunna CRy. I'...</td>\n",
       "      <td>Omgaga sooo gunna been this dentist since supo...</td>\n",
       "    </tr>\n",
       "    <tr>\n",
       "      <td>4</td>\n",
       "      <td>5</td>\n",
       "      <td>0</td>\n",
       "      <td>i think mi bf is cheating on me!!!   ...</td>\n",
       "      <td>think cheating</td>\n",
       "    </tr>\n",
       "  </tbody>\n",
       "</table>\n",
       "</div>"
      ],
      "text/plain": [
       "   ItemID  Sentiment                                              Tweet  \\\n",
       "0       1          0                       is so sad for my APL frie...   \n",
       "1       2          0                     I missed the New Moon trail...   \n",
       "2       3          1                          omg its already 7:30 :O\\r   \n",
       "3       4          0            .. Omgaga. Im sooo  im gunna CRy. I'...   \n",
       "4       5          0           i think mi bf is cheating on me!!!   ...   \n",
       "\n",
       "                                          CleanTweet  \n",
       "0                                             friend  \n",
       "1                                missed Moon trailer  \n",
       "2                                            already  \n",
       "3  Omgaga sooo gunna been this dentist since supo...  \n",
       "4                                     think cheating  "
      ]
     },
     "execution_count": 13,
     "metadata": {},
     "output_type": "execute_result"
    }
   ],
   "source": [
    "# Define new column of dataframe as processed tweet\n",
    "data['CleanTweet'] = np.vectorize(deletePart)(data['Tweet'], \"@[\\w]*\")\n",
    "# Replace all special characters with a space\n",
    "data['CleanTweet'] = data['CleanTweet'].str.replace(\"[^a-zA-Z#]\", \" \")\n",
    "# Delete all words with 3 or less letters\n",
    "data['CleanTweet'] = data['CleanTweet'].apply(lambda x: ' '.join([w for w in x.split() if len(w)>3]))\n",
    "\n",
    "# Display the head\n",
    "data.head()"
   ]
  },
  {
   "cell_type": "code",
   "execution_count": 14,
   "metadata": {},
   "outputs": [
    {
     "data": {
      "text/plain": [
       "0                                             [friend]\n",
       "1                              [missed, Moon, trailer]\n",
       "2                                            [already]\n",
       "3    [Omgaga, sooo, gunna, been, this, dentist, sin...\n",
       "4                                    [think, cheating]\n",
       "Name: CleanTweet, dtype: object"
      ]
     },
     "execution_count": 14,
     "metadata": {},
     "output_type": "execute_result"
    }
   ],
   "source": [
    "# Tokenize tweet into just words\n",
    "tokenizedData = data['CleanTweet'].apply(lambda x: x.split())\n",
    "\n",
    "tokenizedData.head()"
   ]
  },
  {
   "cell_type": "code",
   "execution_count": 15,
   "metadata": {},
   "outputs": [
    {
     "data": {
      "text/plain": [
       "0                                             [friend]\n",
       "1                                [miss, moon, trailer]\n",
       "2                                            [alreadi]\n",
       "3    [omgaga, sooo, gunna, been, thi, dentist, sinc...\n",
       "4                                       [think, cheat]\n",
       "Name: CleanTweet, dtype: object"
      ]
     },
     "execution_count": 15,
     "metadata": {},
     "output_type": "execute_result"
    }
   ],
   "source": [
    "# Remove stemming suffizes like 'ing' 'ed' etc.\n",
    "tokenizedData = tokenizedData.apply(lambda x: [ps.stem(i) for i in x])\n",
    "\n",
    "tokenizedData.head()"
   ]
  },
  {
   "cell_type": "code",
   "execution_count": 16,
   "metadata": {
    "scrolled": true
   },
   "outputs": [
    {
     "data": {
      "text/html": [
       "<div>\n",
       "<style scoped>\n",
       "    .dataframe tbody tr th:only-of-type {\n",
       "        vertical-align: middle;\n",
       "    }\n",
       "\n",
       "    .dataframe tbody tr th {\n",
       "        vertical-align: top;\n",
       "    }\n",
       "\n",
       "    .dataframe thead th {\n",
       "        text-align: right;\n",
       "    }\n",
       "</style>\n",
       "<table border=\"1\" class=\"dataframe\">\n",
       "  <thead>\n",
       "    <tr style=\"text-align: right;\">\n",
       "      <th></th>\n",
       "      <th>ItemID</th>\n",
       "      <th>Sentiment</th>\n",
       "      <th>Tweet</th>\n",
       "      <th>CleanTweet</th>\n",
       "    </tr>\n",
       "  </thead>\n",
       "  <tbody>\n",
       "    <tr>\n",
       "      <td>0</td>\n",
       "      <td>1</td>\n",
       "      <td>0</td>\n",
       "      <td>is so sad for my APL frie...</td>\n",
       "      <td>friend</td>\n",
       "    </tr>\n",
       "    <tr>\n",
       "      <td>1</td>\n",
       "      <td>2</td>\n",
       "      <td>0</td>\n",
       "      <td>I missed the New Moon trail...</td>\n",
       "      <td>miss moon trailer</td>\n",
       "    </tr>\n",
       "    <tr>\n",
       "      <td>2</td>\n",
       "      <td>3</td>\n",
       "      <td>1</td>\n",
       "      <td>omg its already 7:30 :O\\r</td>\n",
       "      <td>alreadi</td>\n",
       "    </tr>\n",
       "    <tr>\n",
       "      <td>3</td>\n",
       "      <td>4</td>\n",
       "      <td>0</td>\n",
       "      <td>.. Omgaga. Im sooo  im gunna CRy. I'...</td>\n",
       "      <td>omgaga sooo gunna been thi dentist sinc supos ...</td>\n",
       "    </tr>\n",
       "    <tr>\n",
       "      <td>4</td>\n",
       "      <td>5</td>\n",
       "      <td>0</td>\n",
       "      <td>i think mi bf is cheating on me!!!   ...</td>\n",
       "      <td>think cheat</td>\n",
       "    </tr>\n",
       "  </tbody>\n",
       "</table>\n",
       "</div>"
      ],
      "text/plain": [
       "   ItemID  Sentiment                                              Tweet  \\\n",
       "0       1          0                       is so sad for my APL frie...   \n",
       "1       2          0                     I missed the New Moon trail...   \n",
       "2       3          1                          omg its already 7:30 :O\\r   \n",
       "3       4          0            .. Omgaga. Im sooo  im gunna CRy. I'...   \n",
       "4       5          0           i think mi bf is cheating on me!!!   ...   \n",
       "\n",
       "                                          CleanTweet  \n",
       "0                                             friend  \n",
       "1                                  miss moon trailer  \n",
       "2                                            alreadi  \n",
       "3  omgaga sooo gunna been thi dentist sinc supos ...  \n",
       "4                                        think cheat  "
      ]
     },
     "execution_count": 16,
     "metadata": {},
     "output_type": "execute_result"
    }
   ],
   "source": [
    "# Stitch it all back together into a tweet\n",
    "for i in range(len(tokenizedData)):\n",
    "    tokenizedData[i] = ' '.join(tokenizedData[i])\n",
    "\n",
    "data['CleanTweet'] = tokenizedData\n",
    "\n",
    "data.head()"
   ]
  },
  {
   "cell_type": "code",
   "execution_count": 21,
   "metadata": {
    "scrolled": true
   },
   "outputs": [
    {
     "name": "stdout",
     "output_type": "stream",
     "text": [
      "[[-0.06116776 -0.03971756 -0.04755368 ... -0.0322359  -0.04771217\n",
      "  -0.03157394]\n",
      " [-0.06116776 -0.03971756 -0.04755368 ... -0.0322359  -0.04771217\n",
      "  -0.03157394]\n",
      " [-0.06116776 -0.03971756 -0.04755368 ... -0.0322359  -0.04771217\n",
      "  -0.03157394]\n",
      " ...\n",
      " [-0.06116776 -0.03971756 -0.04755368 ... -0.0322359  -0.04771217\n",
      "  -0.03157394]\n",
      " [-0.06116776 -0.03971756 -0.04755368 ... -0.0322359  -0.04771217\n",
      "  -0.03157394]\n",
      " [-0.06116776 -0.03971756 -0.04755368 ... -0.0322359  -0.04771217\n",
      "  -0.03157394]]\n"
     ]
    }
   ],
   "source": [
    "# Vectorize the word counts for all of the tweets\n",
    "vectorizer = CountVectorizer(max_df=0.90, min_df=2, max_features=1000, stop_words='english')\n",
    "\n",
    "# Bag-of-words feature matrix\n",
    "bow = vectorizer.fit_transform(data['CleanTweet'])\n",
    "\n",
    "df_bow = pd.DataFrame(bow.todense())\n",
    "\n",
    "standardized_X = preprocessing.scale(df_bow)\n",
    "print(standardized_X)\n",
    "\n",
    "y = data['Sentiment']"
   ]
  },
  {
   "cell_type": "code",
   "execution_count": 22,
   "metadata": {},
   "outputs": [
    {
     "name": "stdout",
     "output_type": "stream",
     "text": [
      "Using Logistic Regression\n",
      "              precision    recall  f1-score   support\n",
      "\n",
      "           0       0.72      0.58      0.64     35379\n",
      "           1       0.71      0.82      0.76     44621\n",
      "\n",
      "    accuracy                           0.71     80000\n",
      "   macro avg       0.71      0.70      0.70     80000\n",
      "weighted avg       0.71      0.71      0.71     80000\n",
      "\n",
      "[[20631 14748]\n",
      " [ 8190 36431]]\n",
      "Using Decision Trees\n",
      "              precision    recall  f1-score   support\n",
      "\n",
      "           0       0.61      0.60      0.61     35379\n",
      "           1       0.69      0.69      0.69     44621\n",
      "\n",
      "    accuracy                           0.65     80000\n",
      "   macro avg       0.65      0.65      0.65     80000\n",
      "weighted avg       0.65      0.65      0.65     80000\n",
      "\n",
      "[[21368 14011]\n",
      " [13777 30844]]\n"
     ]
    }
   ],
   "source": [
    "# Train our model using cross validation with 5 folds, and logistic regression\n",
    "y_pred = cross_val_predict(LogisticRegression(),standardized_X, data['Sentiment'], cv=5)\n",
    "print(\"Using Logistic Regression\")\n",
    "print(metrics.classification_report(y, y_pred))\n",
    "print(metrics.confusion_matrix(y, y_pred))\n",
    "\n",
    "# Train our model using cross validation with 5 folds, and decision trees\n",
    "tree = DecisionTreeClassifier(random_state=52)\n",
    "y_pred = cross_val_predict(tree,standardized_X, y, cv=5)\n",
    "print(\"Using Decision Trees\")\n",
    "print(metrics.classification_report(y, y_pred))\n",
    "print(metrics.confusion_matrix(y, y_pred))"
   ]
  },
  {
   "cell_type": "code",
   "execution_count": 36,
   "metadata": {},
   "outputs": [],
   "source": [
    "#pick out only the positive labeled tweets\n",
    "pos = (data['CleanTweet'][data['Sentiment'] == 1])\n",
    "#split the words\n",
    "pos = pos.apply(lambda x: x.split())\n",
    "#combine all like words\n",
    "pos = sum(pos, [])\n",
    "\n",
    "#do the same for negative\n",
    "neg = (data['CleanTweet'][data['Sentiment'] == 0])\n",
    "neg = neg.apply(lambda x: x.split())\n",
    "neg = sum(neg, [])"
   ]
  },
  {
   "cell_type": "code",
   "execution_count": 50,
   "metadata": {},
   "outputs": [],
   "source": [
    "#find the frequency counts of the positive key words\n",
    "posFrequency = nltk.FreqDist(pos)\n",
    "#find the frequency counts of the negative key words\n",
    "negFrequency = nltk.FreqDist(neg)\n",
    "\n",
    "#turn the counts into seperate dataframes\n",
    "dfPos = pd.DataFrame({'Key Word':list(posFrequency.keys()), 'Count':list(posFrequency.values())})\n",
    "dfNeg = pd.DataFrame({'Key Word':list(negFrequency.keys()), 'Count':list(negFrequency.values())})\n"
   ]
  },
  {
   "cell_type": "code",
   "execution_count": 55,
   "metadata": {},
   "outputs": [
    {
     "name": "stdout",
     "output_type": "stream",
     "text": [
      "     Counts of the Top 15 Words Associated with Positive Tweets\n"
     ]
    },
    {
     "data": {
      "image/png": "[encoded data removed]",
      "text/plain": [
       "<Figure size 432x288 with 1 Axes>"
      ]
     },
     "metadata": {
      "needs_background": "light"
     },
     "output_type": "display_data"
    }
   ],
   "source": [
    "#plot the data\n",
    "posPlot = dfPos.nlargest(15, columns = 'Count')\n",
    "print(\"     Counts of the Top 15 Words Associated with Positive Tweets\")\n",
    "sns.barplot(data=posPlot,y='Key Word',x='Count')\n",
    "sns.despine()"
   ]
  },
  {
   "cell_type": "code",
   "execution_count": 56,
   "metadata": {},
   "outputs": [
    {
     "name": "stdout",
     "output_type": "stream",
     "text": [
      "     Counts of the Top 15 Words Associated with Negative Tweets\n"
     ]
    },
    {
     "data": {
      "image/png": "[encoded data removed]",
      "text/plain": [
       "<Figure size 432x288 with 1 Axes>"
      ]
     },
     "metadata": {
      "needs_background": "light"
     },
     "output_type": "display_data"
    }
   ],
   "source": [
    "negPlot = dfNeg.nlargest(15, columns = 'Count')\n",
    "print(\"     Counts of the Top 15 Words Associated with Negative Tweets\")\n",
    "sns.barplot(data=negPlot,y='Key Word',x='Count')\n",
    "sns.despine()"
   ]
  },
  {
   "cell_type": "code",
   "execution_count": null,
   "metadata": {},
   "outputs": [],
   "source": []
  }
 ],
 "metadata": {
  "kernelspec": {
   "display_name": "Python 3",
   "language": "python",
   "name": "python3"
  },
  "language_info": {
   "codemirror_mode": {
    "name": "ipython",
    "version": 3
   },
   "file_extension": ".py",
   "mimetype": "text/x-python",
   "name": "python",
   "nbconvert_exporter": "python",
   "pygments_lexer": "ipython3",
   "version": "3.7.4"
  }
 },
 "nbformat": 4,
 "nbformat_minor": 2
}
